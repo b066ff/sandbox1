{
  "nbformat": 4,
  "nbformat_minor": 0,
  "metadata": {
    "colab": {
      "provenance": [],
      "authorship_tag": "ABX9TyOTpgQx820eEdaJYYh0dXq/",
      "include_colab_link": true
    },
    "kernelspec": {
      "name": "python3",
      "display_name": "Python 3"
    },
    "language_info": {
      "name": "python"
    }
  },
  "cells": [
    {
      "cell_type": "markdown",
      "metadata": {
        "id": "view-in-github",
        "colab_type": "text"
      },
      "source": [
        "<a href=\"https://colab.research.google.com/github/b066ff/sandbox1/blob/master/tfidf.ipynb\" target=\"_parent\"><img src=\"https://colab.research.google.com/assets/colab-badge.svg\" alt=\"Open In Colab\"/></a>"
      ]
    },
    {
      "cell_type": "code",
      "source": [
        "from collections import Counter\n",
        "import re\n",
        "from sklearn.feature_extraction.text import TfidfVectorizer\n",
        "from sklearn.metrics.pairwise import cosine_similarity\n",
        "\n",
        "# テキストファイルの読み込み\n",
        "def read_file(file_path):\n",
        "    with open(file_path, 'r', encoding='utf-8') as file:\n",
        "        text = file.read()\n",
        "    return text\n",
        "\n",
        "# 数字を含まない名詞のみを抽出する関数\n",
        "def extract_nouns(text):\n",
        "    words = re.findall(r'\\b[^\\d\\W]+\\b', text)\n",
        "    return [word for word in words if word.isalpha()]\n",
        "\n",
        "# TF-IDFの計算\n",
        "def calculate_tfidf(texts):\n",
        "    tfidf_vectorizer = TfidfVectorizer(tokenizer=extract_nouns)\n",
        "    tfidf_matrix = tfidf_vectorizer.fit_transform(texts)\n",
        "    return tfidf_vectorizer, tfidf_matrix\n",
        "\n",
        "# 平均値以上のTF-IDFを持つ単語を抽出し、ランキング形式で表示\n",
        "def extract_top_words(tfidf_vectorizer, tfidf_matrix):\n",
        "    word_tfidf_avg = Counter()\n",
        "    num_docs, _ = tfidf_matrix.shape\n",
        "\n",
        "    for doc in range(num_docs):\n",
        "        feature_names = tfidf_vectorizer.get_feature_names_out()\n",
        "        feature_index = tfidf_matrix[doc, :].nonzero()[1]\n",
        "        for index in feature_index:\n",
        "            word = feature_names[index]\n",
        "            tfidf_value = tfidf_matrix[doc, index]\n",
        "            word_tfidf_avg[word] += tfidf_value\n",
        "\n",
        "    # TF-IDFの平均値を計算\n",
        "    for word in word_tfidf_avg:\n",
        "        word_tfidf_avg[word] /= num_docs\n",
        "\n",
        "    # 平均値以上の単語を抽出\n",
        "    avg_threshold = sum(word_tfidf_avg.values()) / len(word_tfidf_avg)\n",
        "    top_words = {word: tfidf for word, tfidf in word_tfidf_avg.items() if tfidf >= avg_threshold}\n",
        "\n",
        "    # TF-IDF値でソートして表示\n",
        "    sorted_words = sorted(top_words.items(), key=lambda x: x[1], reverse=True)\n",
        "    for word, tfidf in sorted_words:\n",
        "        print(f\"{word}: {tfidf}\")\n",
        "\n",
        "# メイン関数\n",
        "def main():\n",
        "    # テキストファイルのパス\n",
        "    file_path = 'スライド11.txt'  # 入力ファイルの名前を適宜変更してください\n",
        "\n",
        "    # テキストファイルの読み込み\n",
        "    text = read_file(file_path)\n",
        "\n",
        "    # TF-IDFの計算\n",
        "    tfidf_vectorizer, tfidf_matrix = calculate_tfidf([text])\n",
        "\n",
        "    # 平均値以上のTF-IDFを持つ単語を抽出し、ランキング形式で表示\n",
        "    extract_top_words(tfidf_vectorizer, tfidf_matrix)\n",
        "\n",
        "if __name__ == \"__main__\":\n",
        "    main()\n"
      ],
      "metadata": {
        "colab": {
          "base_uri": "https://localhost:8080/"
        },
        "id": "v0PBTlBqPnqc",
        "outputId": "69512520-2da3-45c6-cf0b-e67233c2062b"
      },
      "execution_count": 30,
      "outputs": [
        {
          "output_type": "stream",
          "name": "stdout",
          "text": [
            "に: 0.41702882811414954\n"
          ]
        }
      ]
    },
    {
      "cell_type": "code",
      "source": [
        "import pandas as pd\n",
        "\n",
        "# テキストファイルの読み込み\n",
        "def read_file(file_path):\n",
        "    with open(file_path, 'r', encoding='utf-8') as file:\n",
        "        text = file.read()\n",
        "    return text\n",
        "\n",
        "# 数字を含まない名詞のみを抽出する関数\n",
        "def extract_nouns(text):\n",
        "    words = re.findall(r'\\b[^\\d\\W]+\\b', text)\n",
        "    return [word for word in words if word.isalpha()]\n",
        "\n",
        "# TF-IDFの計算\n",
        "def calculate_tfidf(texts):\n",
        "    tfidf_vectorizer = TfidfVectorizer(tokenizer=extract_nouns)\n",
        "    tfidf_matrix = tfidf_vectorizer.fit_transform(texts)\n",
        "    return tfidf_vectorizer, tfidf_matrix\n",
        "\n",
        "# 平均値以上のTF-IDFを持つ単語を抽出し、ランキング形式で表示\n",
        "def extract_top_words(tfidf_vectorizer, tfidf_matrix):\n",
        "    word_tfidf_avg = Counter()\n",
        "    num_docs, _ = tfidf_matrix.shape\n",
        "\n",
        "    for doc in range(num_docs):\n",
        "        feature_names = tfidf_vectorizer.get_feature_names_out()\n",
        "        feature_index = tfidf_matrix[doc, :].nonzero()[1]\n",
        "        for index in feature_index:\n",
        "            word = feature_names[index]\n",
        "            tfidf_value = tfidf_matrix[doc, index]\n",
        "            word_tfidf_avg[word] += tfidf_value\n",
        "\n",
        "    # TF-IDFの平均値を計算\n",
        "    for word in word_tfidf_avg:\n",
        "        word_tfidf_avg[word] /= num_docs\n",
        "\n",
        "    # 平均値以上の単語を抽出\n",
        "    avg_threshold = sum(word_tfidf_avg.values()) / len(word_tfidf_avg)\n",
        "    top_words = {word: tfidf for word, tfidf in word_tfidf_avg.items() if tfidf >= avg_threshold}\n",
        "\n",
        "    # TF-IDF値でソート\n",
        "    sorted_words = sorted(top_words.items(), key=lambda x: x[1], reverse=True)\n",
        "    return sorted_words\n",
        "\n",
        "# 結果をExcelファイルとして出力\n",
        "def export_to_excel(sorted_words, output_file):\n",
        "    df = pd.DataFrame(sorted_words, columns=['単語', 'TF-IDF値'])\n",
        "    df.to_excel(output_file, index=False)\n",
        "\n",
        "# メイン関数\n",
        "def main():\n",
        "    # テキストファイルのパス\n",
        "    file_path = 'スライド22.txt'  # 入力ファイルの名前を適宜変更してください\n",
        "    output_file = 'output.xlsx'  # 出力ファイル名を指定してください\n",
        "\n",
        "    # テキストファイルの読み込み\n",
        "    text = read_file(file_path)\n",
        "\n",
        "    # TF-IDFの計算\n",
        "    tfidf_vectorizer, tfidf_matrix = calculate_tfidf([text])\n",
        "\n",
        "    # 平均値以上のTF-IDFを持つ単語を抽出し、ランキング形式で取得\n",
        "    sorted_words = extract_top_words(tfidf_vectorizer, tfidf_matrix)\n",
        "\n",
        "    # 結果をExcelファイルとして出力\n",
        "    export_to_excel(sorted_words, output_file)\n",
        "    print(f\"結果が {output_file} として保存されました。\")\n",
        "\n",
        "if __name__ == \"__main__\":\n",
        "    main()\n"
      ],
      "metadata": {
        "colab": {
          "base_uri": "https://localhost:8080/"
        },
        "id": "ukXNiPaDU30P",
        "outputId": "9a12bc1b-aee2-4824-9a31-aadfb103ea94"
      },
      "execution_count": 31,
      "outputs": [
        {
          "output_type": "stream",
          "name": "stdout",
          "text": [
            "結果が output.xlsx として保存されました。\n"
          ]
        }
      ]
    }
  ]
}